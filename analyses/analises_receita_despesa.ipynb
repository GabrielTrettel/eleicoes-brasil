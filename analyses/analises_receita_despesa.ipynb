{
 "cells": [
  {
   "cell_type": "markdown",
   "metadata": {},
   "source": [
    "# Análises do Repositório de Dados Eleitorais do TSE sobre Receita e Despesa dos candidatos"
   ]
  },
  {
   "cell_type": "markdown",
   "metadata": {},
   "source": [
    "### Perguntas a serem respondidas\n",
    "    -Qual custo por voto de cada candidato em cada eleição?\n",
    "    -Qual ranking de custo/voto dos candidatos\n",
    "    -Qual custo por voto de candidatos do gênero feminino\n",
    "    -Quais empresas com maior volume de doação\n",
    "    -Quais empresas doaram para o maior número de candidatos\n",
    "    -Qual volume de doações diretas e indiretas"
   ]
  },
  {
   "cell_type": "code",
   "execution_count": 1,
   "metadata": {},
   "outputs": [],
   "source": [
    "import sqlite3\n",
    "\n",
    "import pandas"
   ]
  },
  {
   "cell_type": "markdown",
   "metadata": {},
   "source": [
    "## Importa dados de Receita e Despesa"
   ]
  },
  {
   "cell_type": "code",
   "execution_count": 6,
   "metadata": {},
   "outputs": [],
   "source": [
    "conn = sqlite3.connect('../receitas-despesas.sqlite')\n",
    "dados = pandas.read_sql(\n",
    "    \"\"\"SELECT SUM(valor_receita) as receita_total, nome_candidato\n",
    "    FROM receita WHERE ano_eleicao = '2016' AND cpf_candidato <> ''\n",
    "    GROUP BY cpf_candidato ORDER BY receita_total DESC LIMIT 100\"\"\",\n",
    "    conn\n",
    ")"
   ]
  },
  {
   "cell_type": "code",
   "execution_count": 11,
   "metadata": {
    "scrolled": false
   },
   "outputs": [
    {
     "data": {
      "text/html": [
       "<div>\n",
       "<style scoped>\n",
       "    .dataframe tbody tr th:only-of-type {\n",
       "        vertical-align: middle;\n",
       "    }\n",
       "\n",
       "    .dataframe tbody tr th {\n",
       "        vertical-align: top;\n",
       "    }\n",
       "\n",
       "    .dataframe thead th {\n",
       "        text-align: right;\n",
       "    }\n",
       "</style>\n",
       "<table border=\"1\" class=\"dataframe\">\n",
       "  <thead>\n",
       "    <tr style=\"text-align: right;\">\n",
       "      <th></th>\n",
       "      <th>receita_total</th>\n",
       "      <th>nome_candidato</th>\n",
       "    </tr>\n",
       "  </thead>\n",
       "  <tbody>\n",
       "    <tr>\n",
       "      <th>0</th>\n",
       "      <td>40000070.00</td>\n",
       "      <td>VAGNER FORTUNATO SOARES</td>\n",
       "    </tr>\n",
       "    <tr>\n",
       "      <th>1</th>\n",
       "      <td>17271197.02</td>\n",
       "      <td>ERALDO PAIXAO DOS SANTOS</td>\n",
       "    </tr>\n",
       "    <tr>\n",
       "      <th>2</th>\n",
       "      <td>12446819.95</td>\n",
       "      <td>JOAO AGRIPINO DA COSTA DORIA JUNIOR</td>\n",
       "    </tr>\n",
       "    <tr>\n",
       "      <th>3</th>\n",
       "      <td>10407826.88</td>\n",
       "      <td>ROBERTO CLAUDIO RODRIGUES BEZERRA</td>\n",
       "    </tr>\n",
       "    <tr>\n",
       "      <th>4</th>\n",
       "      <td>9664174.81</td>\n",
       "      <td>MARCELO BEZERRA CRIVELLA</td>\n",
       "    </tr>\n",
       "  </tbody>\n",
       "</table>\n",
       "</div>"
      ],
      "text/plain": [
       "   receita_total                       nome_candidato\n",
       "0    40000070.00              VAGNER FORTUNATO SOARES\n",
       "1    17271197.02             ERALDO PAIXAO DOS SANTOS\n",
       "2    12446819.95  JOAO AGRIPINO DA COSTA DORIA JUNIOR\n",
       "3    10407826.88    ROBERTO CLAUDIO RODRIGUES BEZERRA\n",
       "4     9664174.81             MARCELO BEZERRA CRIVELLA"
      ]
     },
     "execution_count": 11,
     "metadata": {},
     "output_type": "execute_result"
    }
   ],
   "source": [
    "dados.head()"
   ]
  }
 ],
 "metadata": {
  "kernelspec": {
   "display_name": "Python 3",
   "language": "python",
   "name": "python3"
  },
  "language_info": {
   "codemirror_mode": {
    "name": "ipython",
    "version": 3
   },
   "file_extension": ".py",
   "mimetype": "text/x-python",
   "name": "python",
   "nbconvert_exporter": "python",
   "pygments_lexer": "ipython3",
   "version": "3.7.1"
  }
 },
 "nbformat": 4,
 "nbformat_minor": 2
}
